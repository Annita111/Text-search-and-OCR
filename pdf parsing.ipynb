{
 "cells": [
  {
   "cell_type": "code",
   "execution_count": 2,
   "id": "f94e7dc2",
   "metadata": {},
   "outputs": [
    {
     "name": "stdout",
     "output_type": "stream",
     "text": [
      "445\n"
     ]
    }
   ],
   "source": [
    "# importing required modules  \n",
    "import PyPDF2\n",
    "#Now give the pdf name\n",
    "pdfFileObj = open('1037458-06.2015.8.26.0100.pdf', 'rb')\n",
    "pdfReader = PyPDF2.PdfFileReader(pdfFileObj)\n",
    "print(pdfReader.numPages) # will give total number of pages in pdf"
   ]
  },
  {
   "cell_type": "code",
   "execution_count": 5,
   "id": "9f2303c3",
   "metadata": {},
   "outputs": [],
   "source": [
    "pageObj = pdfReader.getPage(0)\n",
    "text=(pageObj.extractText())\n",
    "text=text.split(\",\")"
   ]
  },
  {
   "cell_type": "code",
   "execution_count": 6,
   "id": "117979da",
   "metadata": {},
   "outputs": [
    {
     "data": {
      "text/plain": [
       "[' \\nELY DE OLIVEIRA FARIA\\n \\nOAB/SP 201.008\\n \\n \\nTATIANA CARMONA FARIA\\n \\nOAB/SP 199.991\\n \\n \\n \\n \\n \\n \\n \\n \\n \\nANEXO A (Art. 48',\n",
       " ' \\ncaput\\n)\\n \\n \\n-\\n \\nEVERSYS CONTROLS',\n",
       " ' FIRE & SECURITY DO BRASIL LTDA\\n \\n-\\n \\nITEASY TECNOLOGIA EM SISTEMAS PREDIAIS ESPECIAIS LTDA\\n \\n']"
      ]
     },
     "execution_count": 6,
     "metadata": {},
     "output_type": "execute_result"
    }
   ],
   "source": [
    "text"
   ]
  },
  {
   "cell_type": "code",
   "execution_count": 22,
   "id": "e854754c",
   "metadata": {},
   "outputs": [],
   "source": [
    "'''\n",
    "import PyPDF2\n",
    "import re\n",
    "\n",
    "# Open the pdf file\n",
    "Object = PyPDF2.PdfFileReader(r\"1037458-06.2015.8.26.0100.pdf\")\n",
    "\n",
    "# Get number of pages\n",
    "NumPages = Object.getNumPages()\n",
    "\n",
    "# Enter code here\n",
    "String = \"Enter_the_text_to_Search_here\"\n",
    "\n",
    "# Extract text and do the search\n",
    "for i in range(0, NumPages):\n",
    "    PageObj = Object.getPage(i)\n",
    "    Text = PageObj.extractText()\n",
    "    if re.search('balanco',Text):\n",
    "         print(\"Pattern Found on Page: \" + str(i))\n",
    "'''"
   ]
  },
  {
   "cell_type": "code",
   "execution_count": 1,
   "id": "cfee00b7",
   "metadata": {},
   "outputs": [],
   "source": [
    "def fnPDF_FindText(xFile, xString):\n",
    "    # xfile : the PDF file in which to look\n",
    "    # xString : the string to look for\n",
    "    import PyPDF2, re\n",
    "    PageFound = -1\n",
    "    pdfDoc = PyPDF2.PdfFileReader(open(xFile, \"rb\"))\n",
    "    lst = []\n",
    "    for i in range(0, pdfDoc.getNumPages()):\n",
    "        content = \"\"\n",
    "        content += pdfDoc.getPage(i).extractText() + \"\\n\"\n",
    "        content1 = content.lower()\n",
    "        ResSearch = re.search(xString, content1)\n",
    "        if ResSearch is not None:\n",
    "            lst.append(i+1)\n",
    "            # PageFound = i            \n",
    "    return lst"
   ]
  },
  {
   "cell_type": "code",
   "execution_count": 4,
   "id": "64a5e996",
   "metadata": {},
   "outputs": [],
   "source": [
    "list_1 = fnPDF_FindText('10450108520168200000.pdf', 'balanco')\n",
    "list_2 = fnPDF_FindText('10450108520168200000.pdf', 'balanço')\n",
    "list_3 = fnPDF_FindText('10450108520168200000.pdf', 'patrimonial')\n",
    "list_4 = fnPDF_FindText('10450108520168200000.pdf', 'balanço patrimonial')\n",
    "merged_list = (set(list_1 + list_2 + list_3 + list_4))"
   ]
  },
  {
   "cell_type": "code",
   "execution_count": 5,
   "id": "17288731",
   "metadata": {},
   "outputs": [
    {
     "data": {
      "text/plain": [
       "{3,\n",
       " 6,\n",
       " 8,\n",
       " 198,\n",
       " 202,\n",
       " 230,\n",
       " 238,\n",
       " 240,\n",
       " 241,\n",
       " 242,\n",
       " 245,\n",
       " 246,\n",
       " 278,\n",
       " 280,\n",
       " 407,\n",
       " 409,\n",
       " 451,\n",
       " 554,\n",
       " 577,\n",
       " 580,\n",
       " 594,\n",
       " 620,\n",
       " 626,\n",
       " 628,\n",
       " 637,\n",
       " 639,\n",
       " 682,\n",
       " 685,\n",
       " 703,\n",
       " 714,\n",
       " 716,\n",
       " 728,\n",
       " 731,\n",
       " 754,\n",
       " 761,\n",
       " 799,\n",
       " 1077,\n",
       " 1078,\n",
       " 1351,\n",
       " 1353,\n",
       " 1357,\n",
       " 1376,\n",
       " 1380,\n",
       " 1535,\n",
       " 1539,\n",
       " 1553,\n",
       " 1558}"
      ]
     },
     "execution_count": 5,
     "metadata": {},
     "output_type": "execute_result"
    }
   ],
   "source": [
    "merged_list"
   ]
  },
  {
   "cell_type": "code",
   "execution_count": null,
   "id": "72c20cfc",
   "metadata": {},
   "outputs": [],
   "source": []
  }
 ],
 "metadata": {
  "kernelspec": {
   "display_name": "Python 3",
   "language": "python",
   "name": "python3"
  },
  "language_info": {
   "codemirror_mode": {
    "name": "ipython",
    "version": 3
   },
   "file_extension": ".py",
   "mimetype": "text/x-python",
   "name": "python",
   "nbconvert_exporter": "python",
   "pygments_lexer": "ipython3",
   "version": "3.8.13"
  }
 },
 "nbformat": 4,
 "nbformat_minor": 5
}
